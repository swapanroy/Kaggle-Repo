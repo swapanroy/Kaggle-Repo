{
 "cells": [
  {
   "cell_type": "markdown",
   "id": "186319b8",
   "metadata": {
    "papermill": {
     "duration": 0.004705,
     "end_time": "2025-01-31T15:14:39.277329",
     "exception": false,
     "start_time": "2025-01-31T15:14:39.272624",
     "status": "completed"
    },
    "tags": []
   },
   "source": [
    "## Trend Analysis and understanding the % variation of a property is crucial for both buyers and sellers. \n",
    "### In this notebook, I will try to understand the % fluctualtion Year over Year."
   ]
  },
  {
   "cell_type": "markdown",
   "id": "660817d8",
   "metadata": {
    "papermill": {
     "duration": 0.003762,
     "end_time": "2025-01-31T15:14:39.285425",
     "exception": false,
     "start_time": "2025-01-31T15:14:39.281663",
     "status": "completed"
    },
    "tags": []
   },
   "source": [
    "### Importing Libraries "
   ]
  },
  {
   "cell_type": "code",
   "execution_count": 1,
   "id": "1219a56e",
   "metadata": {
    "_cell_guid": "b1076dfc-b9ad-4769-8c92-a6c4dae69d19",
    "_uuid": "8f2839f25d086af736a60e9eeb907d3b93b6e0e5",
    "execution": {
     "iopub.execute_input": "2025-01-31T15:14:39.295110Z",
     "iopub.status.busy": "2025-01-31T15:14:39.294574Z",
     "iopub.status.idle": "2025-01-31T15:14:42.238322Z",
     "shell.execute_reply": "2025-01-31T15:14:42.237225Z"
    },
    "papermill": {
     "duration": 2.950907,
     "end_time": "2025-01-31T15:14:42.240442",
     "exception": false,
     "start_time": "2025-01-31T15:14:39.289535",
     "status": "completed"
    },
    "tags": []
   },
   "outputs": [],
   "source": [
    "import pandas as pd\n",
    "import numpy as np\n",
    "import matplotlib.pyplot as plt\n",
    "import seaborn as sns\n",
    "import os\n",
    "import warnings\n",
    "warnings.filterwarnings('ignore')"
   ]
  },
  {
   "cell_type": "markdown",
   "id": "6105af0f",
   "metadata": {
    "papermill": {
     "duration": 0.003806,
     "end_time": "2025-01-31T15:14:42.248584",
     "exception": false,
     "start_time": "2025-01-31T15:14:42.244778",
     "status": "completed"
    },
    "tags": []
   },
   "source": [
    "###  Loading csv data"
   ]
  },
  {
   "cell_type": "code",
   "execution_count": 2,
   "id": "4a135bca",
   "metadata": {
    "execution": {
     "iopub.execute_input": "2025-01-31T15:14:42.258315Z",
     "iopub.status.busy": "2025-01-31T15:14:42.257748Z",
     "iopub.status.idle": "2025-01-31T15:14:42.288829Z",
     "shell.execute_reply": "2025-01-31T15:14:42.287744Z"
    },
    "papermill": {
     "duration": 0.038235,
     "end_time": "2025-01-31T15:14:42.290999",
     "exception": false,
     "start_time": "2025-01-31T15:14:42.252764",
     "status": "completed"
    },
    "tags": []
   },
   "outputs": [],
   "source": [
    "all_home_prices =pd.read_csv('/kaggle/input/zillow-home-value-index/ZHVI.csv')"
   ]
  },
  {
   "cell_type": "code",
   "execution_count": 3,
   "id": "13257981",
   "metadata": {
    "execution": {
     "iopub.execute_input": "2025-01-31T15:14:42.300652Z",
     "iopub.status.busy": "2025-01-31T15:14:42.300293Z",
     "iopub.status.idle": "2025-01-31T15:14:42.341487Z",
     "shell.execute_reply": "2025-01-31T15:14:42.340180Z"
    },
    "papermill": {
     "duration": 0.048079,
     "end_time": "2025-01-31T15:14:42.343361",
     "exception": false,
     "start_time": "2025-01-31T15:14:42.295282",
     "status": "completed"
    },
    "tags": []
   },
   "outputs": [
    {
     "data": {
      "text/html": [
       "<div>\n",
       "<style scoped>\n",
       "    .dataframe tbody tr th:only-of-type {\n",
       "        vertical-align: middle;\n",
       "    }\n",
       "\n",
       "    .dataframe tbody tr th {\n",
       "        vertical-align: top;\n",
       "    }\n",
       "\n",
       "    .dataframe thead th {\n",
       "        text-align: right;\n",
       "    }\n",
       "</style>\n",
       "<table border=\"1\" class=\"dataframe\">\n",
       "  <thead>\n",
       "    <tr style=\"text-align: right;\">\n",
       "      <th></th>\n",
       "      <th>Unnamed: 0</th>\n",
       "      <th>Virginia</th>\n",
       "      <th>California</th>\n",
       "      <th>Florida</th>\n",
       "      <th>New York</th>\n",
       "      <th>New Jersey</th>\n",
       "      <th>Texas</th>\n",
       "      <th>Michigan</th>\n",
       "      <th>Massachusetts</th>\n",
       "      <th>Arizona</th>\n",
       "      <th>...</th>\n",
       "      <th>Kentucky</th>\n",
       "      <th>Missouri</th>\n",
       "      <th>Kansas</th>\n",
       "      <th>Delaware</th>\n",
       "      <th>Wyoming</th>\n",
       "      <th>Oklahoma</th>\n",
       "      <th>South Dakota</th>\n",
       "      <th>Nebraska</th>\n",
       "      <th>Iowa</th>\n",
       "      <th>Ohio</th>\n",
       "    </tr>\n",
       "  </thead>\n",
       "  <tbody>\n",
       "    <tr>\n",
       "      <th>0</th>\n",
       "      <td>2000-01-01</td>\n",
       "      <td>122268.193859</td>\n",
       "      <td>186449.090913</td>\n",
       "      <td>105939.099867</td>\n",
       "      <td>150532.342593</td>\n",
       "      <td>167433.047753</td>\n",
       "      <td>111018.278532</td>\n",
       "      <td>113111.645859</td>\n",
       "      <td>191582.679106</td>\n",
       "      <td>133988.259586</td>\n",
       "      <td>...</td>\n",
       "      <td>84366.296586</td>\n",
       "      <td>94511.431926</td>\n",
       "      <td>86000.758305</td>\n",
       "      <td>144664.050906</td>\n",
       "      <td>NaN</td>\n",
       "      <td>79848.729013</td>\n",
       "      <td>106141.501276</td>\n",
       "      <td>112363.747584</td>\n",
       "      <td>88148.695499</td>\n",
       "      <td>103304.588561</td>\n",
       "    </tr>\n",
       "    <tr>\n",
       "      <th>1</th>\n",
       "      <td>2000-02-01</td>\n",
       "      <td>122584.578966</td>\n",
       "      <td>187075.801959</td>\n",
       "      <td>106168.573819</td>\n",
       "      <td>151068.385602</td>\n",
       "      <td>167884.388497</td>\n",
       "      <td>111078.608733</td>\n",
       "      <td>113173.945053</td>\n",
       "      <td>192222.309941</td>\n",
       "      <td>134230.951715</td>\n",
       "      <td>...</td>\n",
       "      <td>84409.854490</td>\n",
       "      <td>94622.206606</td>\n",
       "      <td>86017.640416</td>\n",
       "      <td>144889.114969</td>\n",
       "      <td>NaN</td>\n",
       "      <td>79881.666817</td>\n",
       "      <td>105915.985652</td>\n",
       "      <td>112543.365679</td>\n",
       "      <td>88317.143517</td>\n",
       "      <td>103367.717036</td>\n",
       "    </tr>\n",
       "    <tr>\n",
       "      <th>2</th>\n",
       "      <td>2000-03-01</td>\n",
       "      <td>122920.021448</td>\n",
       "      <td>187922.015335</td>\n",
       "      <td>106446.741990</td>\n",
       "      <td>151584.413444</td>\n",
       "      <td>168315.047081</td>\n",
       "      <td>111107.869825</td>\n",
       "      <td>113402.026693</td>\n",
       "      <td>192983.369702</td>\n",
       "      <td>134543.300942</td>\n",
       "      <td>...</td>\n",
       "      <td>84489.106316</td>\n",
       "      <td>94788.054284</td>\n",
       "      <td>86117.100292</td>\n",
       "      <td>145169.339985</td>\n",
       "      <td>NaN</td>\n",
       "      <td>80035.200471</td>\n",
       "      <td>105600.393222</td>\n",
       "      <td>112709.838619</td>\n",
       "      <td>88476.165508</td>\n",
       "      <td>103463.454714</td>\n",
       "    </tr>\n",
       "    <tr>\n",
       "      <th>3</th>\n",
       "      <td>2000-04-01</td>\n",
       "      <td>123553.896176</td>\n",
       "      <td>189758.892258</td>\n",
       "      <td>107012.186335</td>\n",
       "      <td>152694.249050</td>\n",
       "      <td>169269.184924</td>\n",
       "      <td>111253.095221</td>\n",
       "      <td>113856.364422</td>\n",
       "      <td>194482.336514</td>\n",
       "      <td>135181.100062</td>\n",
       "      <td>...</td>\n",
       "      <td>84686.054351</td>\n",
       "      <td>95167.144850</td>\n",
       "      <td>86265.785885</td>\n",
       "      <td>145810.208250</td>\n",
       "      <td>NaN</td>\n",
       "      <td>80314.777206</td>\n",
       "      <td>105175.008474</td>\n",
       "      <td>112968.255134</td>\n",
       "      <td>88819.648656</td>\n",
       "      <td>103744.975977</td>\n",
       "    </tr>\n",
       "    <tr>\n",
       "      <th>4</th>\n",
       "      <td>2000-05-01</td>\n",
       "      <td>124165.832795</td>\n",
       "      <td>191893.984972</td>\n",
       "      <td>107621.957129</td>\n",
       "      <td>153842.532171</td>\n",
       "      <td>170241.853435</td>\n",
       "      <td>111347.145464</td>\n",
       "      <td>114526.379974</td>\n",
       "      <td>196104.894267</td>\n",
       "      <td>135904.054386</td>\n",
       "      <td>...</td>\n",
       "      <td>84947.803755</td>\n",
       "      <td>95656.819992</td>\n",
       "      <td>86489.916103</td>\n",
       "      <td>146541.147029</td>\n",
       "      <td>NaN</td>\n",
       "      <td>80690.292238</td>\n",
       "      <td>104998.035988</td>\n",
       "      <td>113099.300600</td>\n",
       "      <td>89199.144497</td>\n",
       "      <td>104174.225895</td>\n",
       "    </tr>\n",
       "  </tbody>\n",
       "</table>\n",
       "<p>5 rows × 52 columns</p>\n",
       "</div>"
      ],
      "text/plain": [
       "   Unnamed: 0       Virginia     California        Florida       New York  \\\n",
       "0  2000-01-01  122268.193859  186449.090913  105939.099867  150532.342593   \n",
       "1  2000-02-01  122584.578966  187075.801959  106168.573819  151068.385602   \n",
       "2  2000-03-01  122920.021448  187922.015335  106446.741990  151584.413444   \n",
       "3  2000-04-01  123553.896176  189758.892258  107012.186335  152694.249050   \n",
       "4  2000-05-01  124165.832795  191893.984972  107621.957129  153842.532171   \n",
       "\n",
       "      New Jersey          Texas       Michigan  Massachusetts        Arizona  \\\n",
       "0  167433.047753  111018.278532  113111.645859  191582.679106  133988.259586   \n",
       "1  167884.388497  111078.608733  113173.945053  192222.309941  134230.951715   \n",
       "2  168315.047081  111107.869825  113402.026693  192983.369702  134543.300942   \n",
       "3  169269.184924  111253.095221  113856.364422  194482.336514  135181.100062   \n",
       "4  170241.853435  111347.145464  114526.379974  196104.894267  135904.054386   \n",
       "\n",
       "   ...      Kentucky      Missouri        Kansas       Delaware  Wyoming  \\\n",
       "0  ...  84366.296586  94511.431926  86000.758305  144664.050906      NaN   \n",
       "1  ...  84409.854490  94622.206606  86017.640416  144889.114969      NaN   \n",
       "2  ...  84489.106316  94788.054284  86117.100292  145169.339985      NaN   \n",
       "3  ...  84686.054351  95167.144850  86265.785885  145810.208250      NaN   \n",
       "4  ...  84947.803755  95656.819992  86489.916103  146541.147029      NaN   \n",
       "\n",
       "       Oklahoma   South Dakota       Nebraska          Iowa           Ohio  \n",
       "0  79848.729013  106141.501276  112363.747584  88148.695499  103304.588561  \n",
       "1  79881.666817  105915.985652  112543.365679  88317.143517  103367.717036  \n",
       "2  80035.200471  105600.393222  112709.838619  88476.165508  103463.454714  \n",
       "3  80314.777206  105175.008474  112968.255134  88819.648656  103744.975977  \n",
       "4  80690.292238  104998.035988  113099.300600  89199.144497  104174.225895  \n",
       "\n",
       "[5 rows x 52 columns]"
      ]
     },
     "execution_count": 3,
     "metadata": {},
     "output_type": "execute_result"
    }
   ],
   "source": [
    "all_home_prices.head()"
   ]
  },
  {
   "cell_type": "code",
   "execution_count": 4,
   "id": "637c70f5",
   "metadata": {
    "execution": {
     "iopub.execute_input": "2025-01-31T15:14:42.354462Z",
     "iopub.status.busy": "2025-01-31T15:14:42.354090Z",
     "iopub.status.idle": "2025-01-31T15:14:42.359742Z",
     "shell.execute_reply": "2025-01-31T15:14:42.358715Z"
    },
    "papermill": {
     "duration": 0.012828,
     "end_time": "2025-01-31T15:14:42.361273",
     "exception": false,
     "start_time": "2025-01-31T15:14:42.348445",
     "status": "completed"
    },
    "tags": []
   },
   "outputs": [
    {
     "data": {
      "text/plain": [
       "(300, 52)"
      ]
     },
     "execution_count": 4,
     "metadata": {},
     "output_type": "execute_result"
    }
   ],
   "source": [
    "all_home_prices.shape"
   ]
  },
  {
   "cell_type": "code",
   "execution_count": 5,
   "id": "aa73bc97",
   "metadata": {
    "execution": {
     "iopub.execute_input": "2025-01-31T15:14:42.371983Z",
     "iopub.status.busy": "2025-01-31T15:14:42.371567Z",
     "iopub.status.idle": "2025-01-31T15:14:42.402734Z",
     "shell.execute_reply": "2025-01-31T15:14:42.401473Z"
    },
    "papermill": {
     "duration": 0.038534,
     "end_time": "2025-01-31T15:14:42.404545",
     "exception": false,
     "start_time": "2025-01-31T15:14:42.366011",
     "status": "completed"
    },
    "tags": []
   },
   "outputs": [
    {
     "name": "stdout",
     "output_type": "stream",
     "text": [
      "<class 'pandas.core.frame.DataFrame'>\n",
      "RangeIndex: 300 entries, 0 to 299\n",
      "Data columns (total 52 columns):\n",
      " #   Column                    Non-Null Count  Dtype  \n",
      "---  ------                    --------------  -----  \n",
      " 0   Unnamed: 0                300 non-null    object \n",
      " 1   Virginia                  300 non-null    float64\n",
      " 2   California                300 non-null    float64\n",
      " 3   Florida                   300 non-null    float64\n",
      " 4   New York                  300 non-null    float64\n",
      " 5   New Jersey                300 non-null    float64\n",
      " 6   Texas                     300 non-null    float64\n",
      " 7   Michigan                  300 non-null    float64\n",
      " 8   Massachusetts             300 non-null    float64\n",
      " 9   Arizona                   299 non-null    float64\n",
      " 10  Washington                300 non-null    float64\n",
      " 11  Colorado                  300 non-null    float64\n",
      " 12  Illinois                  300 non-null    float64\n",
      " 13  the District of Columbia  300 non-null    float64\n",
      " 14  Nevada                    300 non-null    float64\n",
      " 15  Hawaii                    300 non-null    float64\n",
      " 16  New Hampshire             300 non-null    float64\n",
      " 17  Utah                      300 non-null    float64\n",
      " 18  Georgia                   300 non-null    float64\n",
      " 19  Montana                   239 non-null    float64\n",
      " 20  Minnesota                 300 non-null    float64\n",
      " 21  Louisiana                 300 non-null    float64\n",
      " 22  Maryland                  300 non-null    float64\n",
      " 23  Pennsylvania              300 non-null    float64\n",
      " 24  South Carolina            300 non-null    float64\n",
      " 25  North Carolina            300 non-null    float64\n",
      " 26  Vermont                   300 non-null    float64\n",
      " 27  Tennessee                 300 non-null    float64\n",
      " 28  Oregon                    300 non-null    float64\n",
      " 29  New Mexico                273 non-null    float64\n",
      " 30  Rhode Island              300 non-null    float64\n",
      " 31  Alaska                    299 non-null    float64\n",
      " 32  Maine                     300 non-null    float64\n",
      " 33  Alabama                   300 non-null    float64\n",
      " 34  Wisconsin                 300 non-null    float64\n",
      " 35  Arkansas                  300 non-null    float64\n",
      " 36  Mississippi               300 non-null    float64\n",
      " 37  Indiana                   300 non-null    float64\n",
      " 38  West Virginia             299 non-null    float64\n",
      " 39  Idaho                     299 non-null    float64\n",
      " 40  North Dakota              192 non-null    float64\n",
      " 41  Connecticut               300 non-null    float64\n",
      " 42  Kentucky                  300 non-null    float64\n",
      " 43  Missouri                  300 non-null    float64\n",
      " 44  Kansas                    300 non-null    float64\n",
      " 45  Delaware                  300 non-null    float64\n",
      " 46  Wyoming                   273 non-null    float64\n",
      " 47  Oklahoma                  300 non-null    float64\n",
      " 48  South Dakota              299 non-null    float64\n",
      " 49  Nebraska                  300 non-null    float64\n",
      " 50  Iowa                      300 non-null    float64\n",
      " 51  Ohio                      300 non-null    float64\n",
      "dtypes: float64(51), object(1)\n",
      "memory usage: 122.0+ KB\n"
     ]
    }
   ],
   "source": [
    "all_home_prices.info()"
   ]
  },
  {
   "cell_type": "markdown",
   "id": "c109c335",
   "metadata": {
    "papermill": {
     "duration": 0.005259,
     "end_time": "2025-01-31T15:14:42.416335",
     "exception": false,
     "start_time": "2025-01-31T15:14:42.411076",
     "status": "completed"
    },
    "tags": []
   },
   "source": [
    "Based on the data, we see that it's a cleaned data, no nulls."
   ]
  },
  {
   "cell_type": "markdown",
   "id": "338a12d9",
   "metadata": {
    "papermill": {
     "duration": 0.005376,
     "end_time": "2025-01-31T15:14:42.427671",
     "exception": false,
     "start_time": "2025-01-31T15:14:42.422295",
     "status": "completed"
    },
    "tags": []
   },
   "source": [
    "### Replacing the column name from 'Unnamed: 0' to 'Duration'"
   ]
  },
  {
   "cell_type": "code",
   "execution_count": 6,
   "id": "a6527617",
   "metadata": {
    "execution": {
     "iopub.execute_input": "2025-01-31T15:14:42.440458Z",
     "iopub.status.busy": "2025-01-31T15:14:42.439791Z",
     "iopub.status.idle": "2025-01-31T15:14:42.446851Z",
     "shell.execute_reply": "2025-01-31T15:14:42.445818Z"
    },
    "papermill": {
     "duration": 0.015146,
     "end_time": "2025-01-31T15:14:42.448459",
     "exception": false,
     "start_time": "2025-01-31T15:14:42.433313",
     "status": "completed"
    },
    "tags": []
   },
   "outputs": [],
   "source": [
    "all_home_prices.rename(columns={'Unnamed: 0': 'Duration'}, inplace=True)"
   ]
  },
  {
   "cell_type": "code",
   "execution_count": 7,
   "id": "880361bb",
   "metadata": {
    "execution": {
     "iopub.execute_input": "2025-01-31T15:14:42.459472Z",
     "iopub.status.busy": "2025-01-31T15:14:42.459112Z",
     "iopub.status.idle": "2025-01-31T15:14:42.473239Z",
     "shell.execute_reply": "2025-01-31T15:14:42.471824Z"
    },
    "papermill": {
     "duration": 0.021853,
     "end_time": "2025-01-31T15:14:42.475356",
     "exception": false,
     "start_time": "2025-01-31T15:14:42.453503",
     "status": "completed"
    },
    "tags": []
   },
   "outputs": [
    {
     "name": "stdout",
     "output_type": "stream",
     "text": [
      "<class 'pandas.core.frame.DataFrame'>\n",
      "RangeIndex: 300 entries, 0 to 299\n",
      "Data columns (total 52 columns):\n",
      " #   Column                    Non-Null Count  Dtype  \n",
      "---  ------                    --------------  -----  \n",
      " 0   Duration                  300 non-null    object \n",
      " 1   Virginia                  300 non-null    float64\n",
      " 2   California                300 non-null    float64\n",
      " 3   Florida                   300 non-null    float64\n",
      " 4   New York                  300 non-null    float64\n",
      " 5   New Jersey                300 non-null    float64\n",
      " 6   Texas                     300 non-null    float64\n",
      " 7   Michigan                  300 non-null    float64\n",
      " 8   Massachusetts             300 non-null    float64\n",
      " 9   Arizona                   299 non-null    float64\n",
      " 10  Washington                300 non-null    float64\n",
      " 11  Colorado                  300 non-null    float64\n",
      " 12  Illinois                  300 non-null    float64\n",
      " 13  the District of Columbia  300 non-null    float64\n",
      " 14  Nevada                    300 non-null    float64\n",
      " 15  Hawaii                    300 non-null    float64\n",
      " 16  New Hampshire             300 non-null    float64\n",
      " 17  Utah                      300 non-null    float64\n",
      " 18  Georgia                   300 non-null    float64\n",
      " 19  Montana                   239 non-null    float64\n",
      " 20  Minnesota                 300 non-null    float64\n",
      " 21  Louisiana                 300 non-null    float64\n",
      " 22  Maryland                  300 non-null    float64\n",
      " 23  Pennsylvania              300 non-null    float64\n",
      " 24  South Carolina            300 non-null    float64\n",
      " 25  North Carolina            300 non-null    float64\n",
      " 26  Vermont                   300 non-null    float64\n",
      " 27  Tennessee                 300 non-null    float64\n",
      " 28  Oregon                    300 non-null    float64\n",
      " 29  New Mexico                273 non-null    float64\n",
      " 30  Rhode Island              300 non-null    float64\n",
      " 31  Alaska                    299 non-null    float64\n",
      " 32  Maine                     300 non-null    float64\n",
      " 33  Alabama                   300 non-null    float64\n",
      " 34  Wisconsin                 300 non-null    float64\n",
      " 35  Arkansas                  300 non-null    float64\n",
      " 36  Mississippi               300 non-null    float64\n",
      " 37  Indiana                   300 non-null    float64\n",
      " 38  West Virginia             299 non-null    float64\n",
      " 39  Idaho                     299 non-null    float64\n",
      " 40  North Dakota              192 non-null    float64\n",
      " 41  Connecticut               300 non-null    float64\n",
      " 42  Kentucky                  300 non-null    float64\n",
      " 43  Missouri                  300 non-null    float64\n",
      " 44  Kansas                    300 non-null    float64\n",
      " 45  Delaware                  300 non-null    float64\n",
      " 46  Wyoming                   273 non-null    float64\n",
      " 47  Oklahoma                  300 non-null    float64\n",
      " 48  South Dakota              299 non-null    float64\n",
      " 49  Nebraska                  300 non-null    float64\n",
      " 50  Iowa                      300 non-null    float64\n",
      " 51  Ohio                      300 non-null    float64\n",
      "dtypes: float64(51), object(1)\n",
      "memory usage: 122.0+ KB\n"
     ]
    }
   ],
   "source": [
    "all_home_prices.info()"
   ]
  },
  {
   "cell_type": "code",
   "execution_count": 8,
   "id": "c1a4f9a5",
   "metadata": {
    "execution": {
     "iopub.execute_input": "2025-01-31T15:14:42.486804Z",
     "iopub.status.busy": "2025-01-31T15:14:42.486448Z",
     "iopub.status.idle": "2025-01-31T15:14:42.496104Z",
     "shell.execute_reply": "2025-01-31T15:14:42.495019Z"
    },
    "papermill": {
     "duration": 0.017441,
     "end_time": "2025-01-31T15:14:42.498043",
     "exception": false,
     "start_time": "2025-01-31T15:14:42.480602",
     "status": "completed"
    },
    "tags": []
   },
   "outputs": [],
   "source": [
    "# Convert 'Duration' to datetime format and add index for faster retrival\n",
    "all_home_prices['Duration'] = pd.to_datetime(all_home_prices['Duration'], format='%Y-%m-%d')\n",
    "all_home_prices.set_index('Duration', inplace=True)"
   ]
  },
  {
   "cell_type": "code",
   "execution_count": 9,
   "id": "33e94507",
   "metadata": {
    "execution": {
     "iopub.execute_input": "2025-01-31T15:14:42.508961Z",
     "iopub.status.busy": "2025-01-31T15:14:42.508594Z",
     "iopub.status.idle": "2025-01-31T15:14:42.530799Z",
     "shell.execute_reply": "2025-01-31T15:14:42.529817Z"
    },
    "papermill": {
     "duration": 0.029545,
     "end_time": "2025-01-31T15:14:42.532450",
     "exception": false,
     "start_time": "2025-01-31T15:14:42.502905",
     "status": "completed"
    },
    "tags": []
   },
   "outputs": [
    {
     "data": {
      "text/html": [
       "<div>\n",
       "<style scoped>\n",
       "    .dataframe tbody tr th:only-of-type {\n",
       "        vertical-align: middle;\n",
       "    }\n",
       "\n",
       "    .dataframe tbody tr th {\n",
       "        vertical-align: top;\n",
       "    }\n",
       "\n",
       "    .dataframe thead th {\n",
       "        text-align: right;\n",
       "    }\n",
       "</style>\n",
       "<table border=\"1\" class=\"dataframe\">\n",
       "  <thead>\n",
       "    <tr style=\"text-align: right;\">\n",
       "      <th></th>\n",
       "      <th>Virginia</th>\n",
       "      <th>California</th>\n",
       "      <th>Florida</th>\n",
       "      <th>New York</th>\n",
       "      <th>New Jersey</th>\n",
       "      <th>Texas</th>\n",
       "      <th>Michigan</th>\n",
       "      <th>Massachusetts</th>\n",
       "      <th>Arizona</th>\n",
       "      <th>Washington</th>\n",
       "      <th>...</th>\n",
       "      <th>Kentucky</th>\n",
       "      <th>Missouri</th>\n",
       "      <th>Kansas</th>\n",
       "      <th>Delaware</th>\n",
       "      <th>Wyoming</th>\n",
       "      <th>Oklahoma</th>\n",
       "      <th>South Dakota</th>\n",
       "      <th>Nebraska</th>\n",
       "      <th>Iowa</th>\n",
       "      <th>Ohio</th>\n",
       "    </tr>\n",
       "    <tr>\n",
       "      <th>Duration</th>\n",
       "      <th></th>\n",
       "      <th></th>\n",
       "      <th></th>\n",
       "      <th></th>\n",
       "      <th></th>\n",
       "      <th></th>\n",
       "      <th></th>\n",
       "      <th></th>\n",
       "      <th></th>\n",
       "      <th></th>\n",
       "      <th></th>\n",
       "      <th></th>\n",
       "      <th></th>\n",
       "      <th></th>\n",
       "      <th></th>\n",
       "      <th></th>\n",
       "      <th></th>\n",
       "      <th></th>\n",
       "      <th></th>\n",
       "      <th></th>\n",
       "      <th></th>\n",
       "    </tr>\n",
       "  </thead>\n",
       "  <tbody>\n",
       "    <tr>\n",
       "      <th>2000-01-01</th>\n",
       "      <td>122268.193859</td>\n",
       "      <td>186449.090913</td>\n",
       "      <td>105939.099867</td>\n",
       "      <td>150532.342593</td>\n",
       "      <td>167433.047753</td>\n",
       "      <td>111018.278532</td>\n",
       "      <td>113111.645859</td>\n",
       "      <td>191582.679106</td>\n",
       "      <td>133988.259586</td>\n",
       "      <td>171952.714474</td>\n",
       "      <td>...</td>\n",
       "      <td>84366.296586</td>\n",
       "      <td>94511.431926</td>\n",
       "      <td>86000.758305</td>\n",
       "      <td>144664.050906</td>\n",
       "      <td>NaN</td>\n",
       "      <td>79848.729013</td>\n",
       "      <td>106141.501276</td>\n",
       "      <td>112363.747584</td>\n",
       "      <td>88148.695499</td>\n",
       "      <td>103304.588561</td>\n",
       "    </tr>\n",
       "    <tr>\n",
       "      <th>2000-02-01</th>\n",
       "      <td>122584.578966</td>\n",
       "      <td>187075.801959</td>\n",
       "      <td>106168.573819</td>\n",
       "      <td>151068.385602</td>\n",
       "      <td>167884.388497</td>\n",
       "      <td>111078.608733</td>\n",
       "      <td>113173.945053</td>\n",
       "      <td>192222.309941</td>\n",
       "      <td>134230.951715</td>\n",
       "      <td>172340.577764</td>\n",
       "      <td>...</td>\n",
       "      <td>84409.854490</td>\n",
       "      <td>94622.206606</td>\n",
       "      <td>86017.640416</td>\n",
       "      <td>144889.114969</td>\n",
       "      <td>NaN</td>\n",
       "      <td>79881.666817</td>\n",
       "      <td>105915.985652</td>\n",
       "      <td>112543.365679</td>\n",
       "      <td>88317.143517</td>\n",
       "      <td>103367.717036</td>\n",
       "    </tr>\n",
       "    <tr>\n",
       "      <th>2000-03-01</th>\n",
       "      <td>122920.021448</td>\n",
       "      <td>187922.015335</td>\n",
       "      <td>106446.741990</td>\n",
       "      <td>151584.413444</td>\n",
       "      <td>168315.047081</td>\n",
       "      <td>111107.869825</td>\n",
       "      <td>113402.026693</td>\n",
       "      <td>192983.369702</td>\n",
       "      <td>134543.300942</td>\n",
       "      <td>172736.232853</td>\n",
       "      <td>...</td>\n",
       "      <td>84489.106316</td>\n",
       "      <td>94788.054284</td>\n",
       "      <td>86117.100292</td>\n",
       "      <td>145169.339985</td>\n",
       "      <td>NaN</td>\n",
       "      <td>80035.200471</td>\n",
       "      <td>105600.393222</td>\n",
       "      <td>112709.838619</td>\n",
       "      <td>88476.165508</td>\n",
       "      <td>103463.454714</td>\n",
       "    </tr>\n",
       "    <tr>\n",
       "      <th>2000-04-01</th>\n",
       "      <td>123553.896176</td>\n",
       "      <td>189758.892258</td>\n",
       "      <td>107012.186335</td>\n",
       "      <td>152694.249050</td>\n",
       "      <td>169269.184924</td>\n",
       "      <td>111253.095221</td>\n",
       "      <td>113856.364422</td>\n",
       "      <td>194482.336514</td>\n",
       "      <td>135181.100062</td>\n",
       "      <td>173534.765972</td>\n",
       "      <td>...</td>\n",
       "      <td>84686.054351</td>\n",
       "      <td>95167.144850</td>\n",
       "      <td>86265.785885</td>\n",
       "      <td>145810.208250</td>\n",
       "      <td>NaN</td>\n",
       "      <td>80314.777206</td>\n",
       "      <td>105175.008474</td>\n",
       "      <td>112968.255134</td>\n",
       "      <td>88819.648656</td>\n",
       "      <td>103744.975977</td>\n",
       "    </tr>\n",
       "    <tr>\n",
       "      <th>2000-05-01</th>\n",
       "      <td>124165.832795</td>\n",
       "      <td>191893.984972</td>\n",
       "      <td>107621.957129</td>\n",
       "      <td>153842.532171</td>\n",
       "      <td>170241.853435</td>\n",
       "      <td>111347.145464</td>\n",
       "      <td>114526.379974</td>\n",
       "      <td>196104.894267</td>\n",
       "      <td>135904.054386</td>\n",
       "      <td>174406.314662</td>\n",
       "      <td>...</td>\n",
       "      <td>84947.803755</td>\n",
       "      <td>95656.819992</td>\n",
       "      <td>86489.916103</td>\n",
       "      <td>146541.147029</td>\n",
       "      <td>NaN</td>\n",
       "      <td>80690.292238</td>\n",
       "      <td>104998.035988</td>\n",
       "      <td>113099.300600</td>\n",
       "      <td>89199.144497</td>\n",
       "      <td>104174.225895</td>\n",
       "    </tr>\n",
       "  </tbody>\n",
       "</table>\n",
       "<p>5 rows × 51 columns</p>\n",
       "</div>"
      ],
      "text/plain": [
       "                 Virginia     California        Florida       New York  \\\n",
       "Duration                                                                 \n",
       "2000-01-01  122268.193859  186449.090913  105939.099867  150532.342593   \n",
       "2000-02-01  122584.578966  187075.801959  106168.573819  151068.385602   \n",
       "2000-03-01  122920.021448  187922.015335  106446.741990  151584.413444   \n",
       "2000-04-01  123553.896176  189758.892258  107012.186335  152694.249050   \n",
       "2000-05-01  124165.832795  191893.984972  107621.957129  153842.532171   \n",
       "\n",
       "               New Jersey          Texas       Michigan  Massachusetts  \\\n",
       "Duration                                                                 \n",
       "2000-01-01  167433.047753  111018.278532  113111.645859  191582.679106   \n",
       "2000-02-01  167884.388497  111078.608733  113173.945053  192222.309941   \n",
       "2000-03-01  168315.047081  111107.869825  113402.026693  192983.369702   \n",
       "2000-04-01  169269.184924  111253.095221  113856.364422  194482.336514   \n",
       "2000-05-01  170241.853435  111347.145464  114526.379974  196104.894267   \n",
       "\n",
       "                  Arizona     Washington  ...      Kentucky      Missouri  \\\n",
       "Duration                                  ...                               \n",
       "2000-01-01  133988.259586  171952.714474  ...  84366.296586  94511.431926   \n",
       "2000-02-01  134230.951715  172340.577764  ...  84409.854490  94622.206606   \n",
       "2000-03-01  134543.300942  172736.232853  ...  84489.106316  94788.054284   \n",
       "2000-04-01  135181.100062  173534.765972  ...  84686.054351  95167.144850   \n",
       "2000-05-01  135904.054386  174406.314662  ...  84947.803755  95656.819992   \n",
       "\n",
       "                  Kansas       Delaware  Wyoming      Oklahoma   South Dakota  \\\n",
       "Duration                                                                        \n",
       "2000-01-01  86000.758305  144664.050906      NaN  79848.729013  106141.501276   \n",
       "2000-02-01  86017.640416  144889.114969      NaN  79881.666817  105915.985652   \n",
       "2000-03-01  86117.100292  145169.339985      NaN  80035.200471  105600.393222   \n",
       "2000-04-01  86265.785885  145810.208250      NaN  80314.777206  105175.008474   \n",
       "2000-05-01  86489.916103  146541.147029      NaN  80690.292238  104998.035988   \n",
       "\n",
       "                 Nebraska          Iowa           Ohio  \n",
       "Duration                                                \n",
       "2000-01-01  112363.747584  88148.695499  103304.588561  \n",
       "2000-02-01  112543.365679  88317.143517  103367.717036  \n",
       "2000-03-01  112709.838619  88476.165508  103463.454714  \n",
       "2000-04-01  112968.255134  88819.648656  103744.975977  \n",
       "2000-05-01  113099.300600  89199.144497  104174.225895  \n",
       "\n",
       "[5 rows x 51 columns]"
      ]
     },
     "execution_count": 9,
     "metadata": {},
     "output_type": "execute_result"
    }
   ],
   "source": [
    "all_home_prices.head()"
   ]
  },
  {
   "cell_type": "markdown",
   "id": "40a2a8f4",
   "metadata": {
    "papermill": {
     "duration": 0.005109,
     "end_time": "2025-01-31T15:14:42.543008",
     "exception": false,
     "start_time": "2025-01-31T15:14:42.537899",
     "status": "completed"
    },
    "tags": []
   },
   "source": [
    "### Explanation of formula used to calculate YoY\n",
    "\n",
    "#### Given Data:\n",
    "\n",
    "* feb_2020_price: Price in February 2020 (547607.8042)\n",
    "* jan_2020_price: Price in January 2020 (545361.7393)\n",
    "\n",
    "### Formula:\n",
    "\n",
    "The formula for YoY percentage change is:\n",
    "YoY Change = ((Current Month Price - Previous Month Price) / Previous Month Price) * 100\n",
    "\n",
    "\n",
    "### Calculation:\n",
    "\n",
    "Calculate the price difference:\n",
    "Price Difference = February 2020 Price - January 2020 Price\n",
    "Price Difference = 547607.8042 - 545361.7393\n",
    "Price Difference = 2246.0649\n",
    "\n",
    "Calculate the YoY percentage change:\n",
    "YoY Change = (Price Difference / January 2020 Price) * 100\n",
    "YoY Change = (2246.0649 / 545361.7393) * 100\n",
    "YoY Change = 0.4118%"
   ]
  },
  {
   "cell_type": "code",
   "execution_count": 10,
   "id": "58bb81a6",
   "metadata": {
    "execution": {
     "iopub.execute_input": "2025-01-31T15:14:42.557498Z",
     "iopub.status.busy": "2025-01-31T15:14:42.556965Z",
     "iopub.status.idle": "2025-01-31T15:14:43.051807Z",
     "shell.execute_reply": "2025-01-31T15:14:43.050464Z"
    },
    "papermill": {
     "duration": 0.506269,
     "end_time": "2025-01-31T15:14:43.054558",
     "exception": false,
     "start_time": "2025-01-31T15:14:42.548289",
     "status": "completed"
    },
    "tags": []
   },
   "outputs": [
    {
     "name": "stdout",
     "output_type": "stream",
     "text": [
      "['Hawaii', 'California', 'the District of Columbia', 'Massachusetts']\n",
      "2020-01-01 00:00:00\n",
      "              Hawaii  California  the District of Columbia  Massachusetts\n",
      "Duration                                                                 \n",
      "2020-01-01       NaN         NaN                       NaN            NaN\n",
      "2020-02-01  0.398098    0.411849                  0.619240       0.559415\n",
      "2020-03-01  0.384929    0.395169                  0.821636       0.695962\n",
      "2020-04-01  0.303296    0.363459                  0.802765       0.603374\n",
      "2020-05-01  0.043502    0.045739                  0.454920       0.358945\n",
      "2020-06-01 -0.136272   -0.216583                  0.080803       0.160940\n",
      "2020-07-01 -0.066043   -0.028010                  0.033166       0.184980\n",
      "2020-08-01  0.328340    0.583877                  0.352862       0.566460\n",
      "2020-09-01  0.776532    1.288705                  0.721959       1.079555\n",
      "2020-10-01  0.962591    1.633733                  0.738079       1.421162\n",
      "2020-11-01  1.131806    1.871815                  0.771100       1.630076\n",
      "2020-12-01  1.133375    1.832764                  0.628621       1.605129\n",
      "2021-01-01  1.052627    1.494510                  0.447618       1.428662\n",
      "2021-02-01  1.027730    1.259852                  0.376826       1.393148\n",
      "2021-03-01  1.078093    1.127122                  0.530909       1.388245\n",
      "2021-04-01  1.309223    1.459107                  0.703560       1.522331\n",
      "2021-05-01  1.528877    1.722065                  0.845774       1.564577\n",
      "2021-06-01  1.698447    1.817624                  0.796975       1.457377\n",
      "2021-07-01  1.459160    1.613481                  0.377658       0.974748\n",
      "2021-08-01  0.940882    1.098570                 -0.140336       0.327251\n",
      "2021-09-01  0.681529    0.736833                 -0.490090      -0.115350\n",
      "2021-10-01  0.845453    0.652992                 -0.329170      -0.075797\n",
      "2021-11-01  1.177506    0.855398                 -0.165023       0.176623\n",
      "2021-12-01  1.239209    1.045568                 -0.122211       0.402178\n",
      "2022-01-01  1.997230    1.443074                  0.142990       0.990064\n",
      "2022-02-01  2.593713    1.825439                  0.671770       1.548590\n",
      "2022-03-01  3.120976    2.161725                  1.293022       2.051671\n",
      "2022-04-01  2.457960    1.924230                  1.190428       1.878543\n",
      "2022-05-01  1.853165    1.423067                  0.712843       1.579568\n",
      "2022-06-01  1.108142    0.746004                  0.039145       1.156927\n",
      "2022-07-01  0.423768    0.040468                 -0.567620       0.529884\n",
      "2022-08-01 -0.259653   -0.610209                 -0.984604      -0.180512\n",
      "2022-09-01 -0.648271   -0.981931                 -1.265734      -0.718168\n",
      "2022-10-01 -0.553050   -0.892744                 -0.941417      -0.616674\n",
      "2022-11-01 -0.365326   -0.707892                 -0.707020      -0.349998\n",
      "2022-12-01 -0.301730   -0.611116                 -0.487046      -0.088440\n",
      "2023-01-01 -0.553350   -0.956614                 -0.465929      -0.155923\n",
      "2023-02-01 -0.614108   -0.992974                 -0.332867      -0.121807\n",
      "2023-03-01 -0.441672   -0.737755                 -0.287313       0.098957\n",
      "2023-04-01  0.172613   -0.081871                 -0.198000       0.596948\n",
      "2023-05-01  0.369686    0.417332                 -0.138731       0.943557\n",
      "2023-06-01  0.386581    0.727798                  0.069767       1.073870\n",
      "2023-07-01  0.238661    0.973989                  0.216959       1.016898\n",
      "2023-08-01  0.273804    1.091478                  0.243205       0.985898\n",
      "2023-09-01  0.264842    1.031760                  0.088628       0.877985\n",
      "2023-10-01 -0.045124    0.830377                 -0.138065       0.733754\n",
      "2023-11-01 -0.060449    0.589331                 -0.372360       0.558440\n",
      "2023-12-01 -0.085552    0.373014                 -0.431410       0.426958\n",
      "2024-01-01  0.030890    0.070430                 -0.437993       0.273282\n",
      "2024-02-01 -0.014241   -0.020234                 -0.155203       0.333031\n",
      "2024-03-01  0.319264    0.196296                  0.036672       0.596162\n",
      "2024-04-01  0.616521    0.510292                  0.086877       0.821414\n",
      "2024-05-01  0.565827    0.590258                 -0.135647       0.730388\n",
      "2024-06-01  0.115304    0.323190                 -0.503621       0.441096\n",
      "2024-07-01 -0.104286    0.260151                 -0.500796       0.308885\n",
      "2024-08-01 -0.027631    0.229937                 -0.449340       0.338862\n",
      "2024-09-01  0.184836    0.297824                 -0.027204       0.368368\n",
      "2024-10-01  0.151578    0.205704                 -0.015767       0.308238\n",
      "2024-11-01 -0.059715    0.228852                 -0.073189       0.247315\n",
      "2024-12-01 -0.172078    0.230987                 -0.106006       0.285451\n"
     ]
    },
    {
     "data": {
      "image/png": "[encoded data removed]",
      "text/plain": [
       "<Figure size 1200x600 with 1 Axes>"
      ]
     },
     "metadata": {},
     "output_type": "display_data"
    }
   ],
   "source": [
    "# Select the top 5 states with the highest average price appreciation \n",
    "top_states = all_home_prices.mean().sort_values(ascending=False).head(4).index.tolist()\n",
    "\n",
    "# Check the top states\n",
    "print(top_states) \n",
    "\n",
    "# Filter data for the last 5 years\n",
    "start_date = all_home_prices.index[-60]  # Using monthly data for the last 5 years\n",
    "\n",
    "print(start_date)\n",
    "\n",
    "last_5_years_data = all_home_prices.loc[start_date:]\n",
    "\n",
    "# Calculate year-over-year (YoY) percentage change for the last 5 years\n",
    "\n",
    "df_pct_change_last_5 = last_5_years_data[top_states].pct_change() * 100\n",
    "print(df_pct_change_last_5)\n",
    "\n",
    "# Calculate year-over-year (YoY) percentage change for the last 5 years\n",
    "df_pct_change_last_5 = last_5_years_data[top_states].pct_change() * 100\n",
    "\n",
    "\n",
    "# Plot YoY price changes for the top 5 states for the last 10 years\n",
    "plt.figure(figsize=(12, 6))\n",
    "for state in top_states:\n",
    "    plt.plot(df_pct_change_last_5[state], label=state)\n",
    "\n",
    "# Add data labels to the plot\n",
    "'''\n",
    "for state in top_states:\n",
    "    for x, y in zip(df_pct_change_last_5.index, df_pct_change_last_5[state]):\n",
    "        plt.text(x, y, f'{y:.f}%', ha='center', va='bottom', fontsize=8)\n",
    "'''\n",
    "\n",
    "\n",
    "plt.title('Year-over-Year Price Change for Top 5 States (Last 5 Years)')\n",
    "plt.xlabel('Date')\n",
    "plt.ylabel('YoY Price Change (%)')\n",
    "plt.legend()\n",
    "plt.grid(True)\n",
    "plt.show()\n"
   ]
  },
  {
   "cell_type": "markdown",
   "id": "0b8fe40f",
   "metadata": {
    "papermill": {
     "duration": 0.008586,
     "end_time": "2025-01-31T15:14:43.073103",
     "exception": false,
     "start_time": "2025-01-31T15:14:43.064517",
     "status": "completed"
    },
    "tags": []
   },
   "source": [
    "**What is CAGR (Compound Annual Growth Rate)?**\n",
    "\n",
    "* **Definition:** CAGR is a financial metric that represents the average annualized rate of return of an investment over a specific period. \n",
    "* **Key Features:**\n",
    "    * **Smoothed Rate:** CAGR provides a smoothed rate of return, even if the actual growth of the investment wasn't consistent year-over-year.\n",
    "    * **Compounding:** CAGR assumes that any profits earned during each period are reinvested, allowing for compounding growth.\n",
    "    * **Comparison Tool:** CAGR is used to compare the performance of different investments over the same time period.\n",
    "\n",
    "**CAGR** is a valuable tool for real estate analysis because it provides a standardized measure of long-term growth. By understanding the historical CAGR of different markets and properties, investors can make more informed decisions about where and how to allocate their capital.\n"
   ]
  },
  {
   "cell_type": "code",
   "execution_count": 11,
   "id": "84fdeadd",
   "metadata": {
    "execution": {
     "iopub.execute_input": "2025-01-31T15:14:43.090767Z",
     "iopub.status.busy": "2025-01-31T15:14:43.090397Z",
     "iopub.status.idle": "2025-01-31T15:14:43.303422Z",
     "shell.execute_reply": "2025-01-31T15:14:43.302333Z"
    },
    "papermill": {
     "duration": 0.223638,
     "end_time": "2025-01-31T15:14:43.305126",
     "exception": false,
     "start_time": "2025-01-31T15:14:43.081488",
     "status": "completed"
    },
    "tags": []
   },
   "outputs": [
    {
     "data": {
      "image/png": "[encoded data removed]",
      "text/plain": [
       "<Figure size 800x600 with 1 Axes>"
      ]
     },
     "metadata": {},
     "output_type": "display_data"
    }
   ],
   "source": [
    "# Calculate compound annual growth rate (CAGR)\n",
    "def calculate_cagr(start_value, end_value, years):\n",
    "    return (end_value / start_value) ** (1 / years) - 1\n",
    "\n",
    "start_year = all_home_prices.index[0].year\n",
    "end_year = all_home_prices.index[-1].year\n",
    "years = end_year - start_year\n",
    "\n",
    "cagr = all_home_prices[top_states].iloc[-1] / all_home_prices[top_states].iloc[0]\n",
    "cagr = cagr ** (1 / years) - 1\n",
    "\n",
    "\n",
    "# Visualize CAGR with a bar plot\n",
    "plt.figure(figsize=(8, 6))\n",
    "sns.barplot(x=top_states, y=cagr)\n",
    "\n",
    "# Add data labels to the bars\n",
    "for i, v in enumerate(cagr):\n",
    "    plt.text(i, v, f'{v:.4f}%', ha='center', va='bottom', fontsize=10)\n",
    "\n",
    "plt.title('Compound Annual Growth Rate (CAGR) for Top 5 States')\n",
    "plt.xlabel('State')\n",
    "plt.ylabel('CAGR')\n",
    "plt.show()"
   ]
  },
  {
   "cell_type": "markdown",
   "id": "180396c0",
   "metadata": {
    "papermill": {
     "duration": 0.008055,
     "end_time": "2025-01-31T15:14:43.321928",
     "exception": false,
     "start_time": "2025-01-31T15:14:43.313873",
     "status": "completed"
    },
    "tags": []
   },
   "source": [
    "## **Interpretation of the CAGR Values:**\n",
    "\n",
    "The CAGR values represent the estimated average annual growth rate for housing prices in each of the listed states over the 5 year period in the analysis. \n",
    "\n",
    "* **Hawaii: 0.063296**\n",
    "    - This translates to a CAGR of approximately 6.33%. \n",
    "    - It suggests that, on average, housing prices in Hawaii have increased by about 6.33% per year.\n",
    "\n",
    "* **California: 0.061061**\n",
    "    - This translates to a CAGR of approximately 6.11%.\n",
    "    - It suggests that, on average, housing prices in California have increased by about 6.11% per year.\n",
    "\n",
    "* **The District of Columbia: 0.056205**\n",
    "    - This translates to a CAGR of approximately 5.62%.\n",
    "    - It suggests that, on average, housing prices in the District of Columbia have increased by about 5.62% per year.\n",
    "\n",
    "* **Massachusetts: 0.050402**\n",
    "    - This translates to a CAGR of approximately 5.04%.\n",
    "    - It suggests that, on average, housing prices in Massachusetts have increased by about 5.04% per year.\n",
    "\n",
    "**Key Takeaways:**\n",
    "\n",
    "* **Hawaii** shows the highest CAGR, indicating the strongest historical growth in housing prices among these states.\n",
    "* **California** has the second-highest CAGR, suggesting a significant historical appreciation in housing values.\n",
    "* **The District of Columbia** and **Massachusetts** also demonstrate strong historical growth, with CAGRs above 5%.\n"
   ]
  }
 ],
 "metadata": {
  "kaggle": {
   "accelerator": "none",
   "dataSources": [
    {
     "datasetId": 1947423,
     "sourceId": 10531584,
     "sourceType": "datasetVersion"
    }
   ],
   "dockerImageVersionId": 30839,
   "isGpuEnabled": false,
   "isInternetEnabled": true,
   "language": "python",
   "sourceType": "notebook"
  },
  "kernelspec": {
   "display_name": "Python 3",
   "language": "python",
   "name": "python3"
  },
  "language_info": {
   "codemirror_mode": {
    "name": "ipython",
    "version": 3
   },
   "file_extension": ".py",
   "mimetype": "text/x-python",
   "name": "python",
   "nbconvert_exporter": "python",
   "pygments_lexer": "ipython3",
   "version": "3.10.12"
  },
  "papermill": {
   "default_parameters": {},
   "duration": 8.279937,
   "end_time": "2025-01-31T15:14:44.051223",
   "environment_variables": {},
   "exception": null,
   "input_path": "__notebook__.ipynb",
   "output_path": "__notebook__.ipynb",
   "parameters": {},
   "start_time": "2025-01-31T15:14:35.771286",
   "version": "2.6.0"
  }
 },
 "nbformat": 4,
 "nbformat_minor": 5
}
